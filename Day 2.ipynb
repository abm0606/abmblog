{
 "cells": [
  {
   "cell_type": "code",
   "execution_count": 11,
   "metadata": {},
   "outputs": [
    {
     "name": "stdout",
     "output_type": "stream",
     "text": [
      "Lille\n",
      "D\n",
      "Berlin\n"
     ]
    }
   ],
   "source": [
    "capital = {\n",
    "    \"France\": \"Paris\",\n",
    "    \"Germnay\": \"Berlin\",\n",
    "}\n",
    "\n",
    "#Nested List in Dictionary\n",
    "\n",
    "travel_log = {\n",
    "    \"France\": [\"Paris\", \"Lille\", \"Dijon\"],\n",
    "    \"Germany\": [\"Munich\", \"Berlin\"],\n",
    "}\n",
    "print(travel_log[\"France\"][1])\n",
    "\n",
    "nested_list = [\"A\", \"B\", [\"C\", \"D\"]]\n",
    "print(nested_list[2][1])\n",
    "\n",
    "travel_instruction = {\n",
    "    \"France\": {\n",
    "        \"cities_of_visited\": [\"Paris\", \"Lille\", \"Dijon\"],\n",
    "        \"total_visits\": 12\n",
    "    },\n",
    "    \"Germany\": {\n",
    "        \"cities_of_visited\": [\"Munich\", \"Berlin\"],\n",
    "        \"total_visits\": 8\n",
    "    }\n",
    "}\n",
    "print(travel_instruction[\"Germany\"][\"cities_of_visited\"][1])\n"
   ]
  },
  {
   "cell_type": "code",
   "execution_count": 14,
   "metadata": {},
   "outputs": [
    {
     "name": "stdout",
     "output_type": "stream",
     "text": [
      "{'a': 9, 'b': 8, 'c': 7}\n"
     ]
    }
   ],
   "source": [
    "starting_dictionary = {\n",
    "    \"a\": 9,\n",
    "    \"b\": 8,\n",
    "}\n",
    "\n",
    "starting_dictionary[\"c\"] = 7\n",
    "final_dictionary = starting_dictionary\n",
    "print(final_dictionary)"
   ]
  },
  {
   "cell_type": "code",
   "execution_count": 19,
   "metadata": {},
   "outputs": [
    {
     "name": "stdout",
     "output_type": "stream",
     "text": [
      "Welcome to the auction \n",
      "ABM bid 120.0 for this item \n",
      "The highest bid is: 180.0 by Linh\n"
     ]
    }
   ],
   "source": [
    "import os\n",
    "import time\n",
    "\n",
    "print(\"Welcome to the auction \")\n",
    "bidder_dictionary = {}\n",
    "\n",
    "continue_bidding = True\n",
    "\n",
    "while continue_bidding:\n",
    "    name_input = str(input(\"What's your name? \"))\n",
    "    bid_input = float(input(\"How much would you like to bid? \")) \n",
    "    bidder_dictionary[name_input] = bid_input\n",
    "    should_continue = str(input(\"Any others want to bid? Please type Yes or No: \"))\n",
    "    \n",
    "    if should_continue.lower() == \"no\":\n",
    "        continue_bidding = False\n",
    "    else:\n",
    "       print(f\"{name_input} bid {bid_input} for this item \")\n",
    "       time.sleep(2)  \n",
    "       os.system('cls' if os.name == 'nt' else 'clear')  \n",
    "\n",
    "highest_bid = 0\n",
    "highest_bidder = \"\"\n",
    "\n",
    "for name, bid in bidder_dictionary.items():\n",
    "    if bid > highest_bid:\n",
    "        highest_bid = bid\n",
    "        highest_bidder = name\n",
    "\n",
    "print(f\"The highest bid is: {highest_bid} by {highest_bidder}\")\n",
    "\n",
    "\n"
   ]
  },
  {
   "cell_type": "markdown",
   "metadata": {},
   "source": [
    "Calcultar Project"
   ]
  },
  {
   "cell_type": "code",
   "execution_count": 7,
   "metadata": {},
   "outputs": [
    {
     "name": "stdout",
     "output_type": "stream",
     "text": [
      "Welcome to ABM Calculator\n",
      "Result: 8.0\n",
      "Result: 17.0\n",
      "Result: Invalid operator\n"
     ]
    }
   ],
   "source": [
    "print(\"Welcome to ABM Calculator\")\n",
    "first_number = float(input(\"Please type your first number: \"))\n",
    "\n",
    "continue_cal = True\n",
    "\n",
    "def cal_operator(a: str, n: float, m: float):\n",
    "    if a == '+':\n",
    "        return n + m\n",
    "    elif a == '-':\n",
    "        return n - m\n",
    "    elif a == '*':\n",
    "        return n * m\n",
    "    elif a == '/':\n",
    "        return n / m\n",
    "    else:\n",
    "        return \"Invalid operator\"\n",
    "\n",
    "while continue_cal:\n",
    "    previous_or_new = input(f\"Do you want to continue with the {first_number}? (y/n): \")\n",
    "    if previous_or_new == \"n\":\n",
    "        first_number = float(input(\"Please enter the new number: \"))\n",
    "    \n",
    "    operator = input(\"Please enter the operator: \")\n",
    "    second_number = float(input(\"What's the next number? \"))\n",
    "    first_number = cal_operator(operator, first_number, second_number)\n",
    "    \n",
    "    print(f\"Result: {first_number}\")\n",
    "    if (first_number == \"Invalid operator\"):\n",
    "        break\n",
    "    \n",
    "    continue_cal = input(\"Do you want to continue? (y/n): \") == \"y\"\n",
    "    "
   ]
  },
  {
   "cell_type": "markdown",
   "metadata": {},
   "source": [
    "Cờ bạc bịp\n"
   ]
  },
  {
   "cell_type": "code",
   "execution_count": 16,
   "metadata": {},
   "outputs": [
    {
     "name": "stdout",
     "output_type": "stream",
     "text": [
      "Welcome to BlackJack ABM - High Credibility\n",
      "How much money you want to put in this game?\n",
      "Your cards are [10, 10] with a total point of 20\n",
      "Dealer's cards are [1] with a total point of 1\n",
      "Type 'hit' to have a new card or 'stay' to pass\n",
      "Dealer's cards are now [1, 7] with a total point of 8\n",
      "Dealer's cards are now [1, 7, 6] with a total point of 14\n",
      "Dealer's cards are now [1, 7, 6, 4] with a total point of 18\n",
      "You won!\n",
      "How much money you want to put in this game?\n",
      "Your cards are [3, 6] with a total point of 9\n",
      "Dealer's cards are [7] with a total point of 7\n",
      "Type 'hit' to have a new card or 'stay' to pass\n",
      "Your cards are [3, 6, 10] with a total point of 19\n",
      "Dealer's cards are [7] with a total point of 7\n",
      "Type 'hit' to have a new card or 'stay' to pass\n",
      "Dealer's cards are now [7, 3] with a total point of 10\n",
      "Dealer's cards are now [7, 3, 10] with a total point of 20\n",
      "Dealer wins.\n",
      "Please top up your account\n"
     ]
    }
   ],
   "source": [
    "import random\n",
    "\n",
    "print(\"Welcome to BlackJack ABM - High Credibility\")\n",
    "\n",
    "initial_money = float(input(\"Please enter your initial money: \"))\n",
    "\n",
    "have_enough_money = True\n",
    "\n",
    "def sum_of_list(c: list) -> int:\n",
    "    total = 0\n",
    "    for card in c:\n",
    "        total += card\n",
    "    return total\n",
    "\n",
    "while have_enough_money:\n",
    "    player_cards = []\n",
    "    dealer_cards = []\n",
    "    print(\"How much money you want to put in this game?\")\n",
    "    money_for_thisgame = float(input(\"Please enter the amount of money: \"))\n",
    "    dealer_cards.append(random.randint(1, 10))\n",
    "    player_cards.append(random.randint(1, 10))\n",
    "    player_cards.append(random.randint(1, 10))\n",
    "\n",
    "    not_finish = True\n",
    "    while not_finish:\n",
    "        dealer_total_point = sum_of_list(dealer_cards)\n",
    "        player_total_point = sum_of_list(player_cards)\n",
    "        print(f\"Your cards are {player_cards} with a total point of {player_total_point}\")\n",
    "        print(f\"Dealer's cards are {dealer_cards} with a total point of {dealer_total_point}\")\n",
    "        \n",
    "        if player_total_point > 21:\n",
    "            not_finish = False\n",
    "            initial_money -= money_for_thisgame\n",
    "            print(\"You busted! Game over.\")\n",
    "        else:\n",
    "            print(\"Type 'hit' to have a new card or 'stay' to pass\")\n",
    "            stay_or_hit = input(\"Please choose hit or stay: \").lower()\n",
    "\n",
    "            if stay_or_hit == \"hit\":\n",
    "                player_cards.append(random.randint(1, 10))\n",
    "            else:\n",
    "                while dealer_total_point < 17:\n",
    "                    dealer_cards.append(random.randint(1, 10))\n",
    "                    dealer_total_point = sum_of_list(dealer_cards)\n",
    "                    print(f\"Dealer's cards are now {dealer_cards} with a total point of {dealer_total_point}\")\n",
    "                if dealer_total_point > 21 or player_total_point > dealer_total_point:\n",
    "                    initial_money += money_for_thisgame\n",
    "                    print(\"You won!\")\n",
    "                else:\n",
    "                    initial_money -= money_for_thisgame\n",
    "                    print(\"Dealer wins.\")\n",
    "                not_finish = False\n",
    "\n",
    "    if initial_money <= 0:\n",
    "        print(\"Please top up your account\")\n",
    "        have_enough_money = False\n",
    "    else:\n",
    "        print(f\"Your current account balance is {initial_money}\")\n",
    "        have_enough_money = input(\"Do you want to stop? (y/n): \").lower() != \"y\"\n",
    "\n"
   ]
  },
  {
   "cell_type": "markdown",
   "metadata": {},
   "source": []
  }
 ],
 "metadata": {
  "kernelspec": {
   "display_name": "Python 3",
   "language": "python",
   "name": "python3"
  },
  "language_info": {
   "codemirror_mode": {
    "name": "ipython",
    "version": 3
   },
   "file_extension": ".py",
   "mimetype": "text/x-python",
   "name": "python",
   "nbconvert_exporter": "python",
   "pygments_lexer": "ipython3",
   "version": "3.12.5"
  }
 },
 "nbformat": 4,
 "nbformat_minor": 2
}
